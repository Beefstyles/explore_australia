{
 "cells": [
  {
   "cell_type": "markdown",
   "metadata": {},
   "source": [
    "\n",
    "### Load up deposit locations using geopandas\n",
    "\n",
    "We can read the geojson directly"
   ]
  },
  {
   "cell_type": "code",
   "execution_count": 2,
   "metadata": {},
   "outputs": [
    {
     "data": {
      "text/html": [
       "<div>\n",
       "<style scoped>\n",
       "    .dataframe tbody tr th:only-of-type {\n",
       "        vertical-align: middle;\n",
       "    }\n",
       "\n",
       "    .dataframe tbody tr th {\n",
       "        vertical-align: top;\n",
       "    }\n",
       "\n",
       "    .dataframe thead th {\n",
       "        text-align: right;\n",
       "    }\n",
       "</style>\n",
       "<table border=\"1\" class=\"dataframe\">\n",
       "  <thead>\n",
       "    <tr style=\"text-align: right;\">\n",
       "      <th></th>\n",
       "      <th>age</th>\n",
       "      <th>comment</th>\n",
       "      <th>commodities_string</th>\n",
       "      <th>id</th>\n",
       "      <th>latitude</th>\n",
       "      <th>longitude</th>\n",
       "      <th>name</th>\n",
       "      <th>geometry</th>\n",
       "    </tr>\n",
       "  </thead>\n",
       "  <tbody>\n",
       "    <tr>\n",
       "      <th>0</th>\n",
       "      <td>Late Ordovician</td>\n",
       "      <td>Late Ordovician-Silurian</td>\n",
       "      <td>Au;Cu</td>\n",
       "      <td>333286</td>\n",
       "      <td>-36.115388</td>\n",
       "      <td>147.091253</td>\n",
       "      <td>Bethanga</td>\n",
       "      <td>POINT (147.0912532 -36.11538783)</td>\n",
       "    </tr>\n",
       "    <tr>\n",
       "      <th>1</th>\n",
       "      <td>Late Palaeozoic</td>\n",
       "      <td>nan</td>\n",
       "      <td>Ag;Zn;Pb</td>\n",
       "      <td>333287</td>\n",
       "      <td>-18.710841</td>\n",
       "      <td>125.968020</td>\n",
       "      <td>Cadjebut</td>\n",
       "      <td>POINT (125.9680199 -18.71084053)</td>\n",
       "    </tr>\n",
       "    <tr>\n",
       "      <th>2</th>\n",
       "      <td>Tertiary</td>\n",
       "      <td>nan</td>\n",
       "      <td>U</td>\n",
       "      <td>333288</td>\n",
       "      <td>-31.740950</td>\n",
       "      <td>140.662364</td>\n",
       "      <td>Honeymoon</td>\n",
       "      <td>POINT (140.6623645 -31.74095042)</td>\n",
       "    </tr>\n",
       "    <tr>\n",
       "      <th>3</th>\n",
       "      <td>Precambrian</td>\n",
       "      <td>nan</td>\n",
       "      <td>Fe</td>\n",
       "      <td>333289</td>\n",
       "      <td>-22.635456</td>\n",
       "      <td>118.138599</td>\n",
       "      <td>Marandoo</td>\n",
       "      <td>POINT (118.1385991 -22.63545578)</td>\n",
       "    </tr>\n",
       "    <tr>\n",
       "      <th>4</th>\n",
       "      <td>Neoproterozoic</td>\n",
       "      <td>coincides with NNW trending transcontinental g...</td>\n",
       "      <td>Ag;Cu;Co</td>\n",
       "      <td>333290</td>\n",
       "      <td>-31.447091</td>\n",
       "      <td>137.149981</td>\n",
       "      <td>Mount Gunson</td>\n",
       "      <td>POINT (137.1499808 -31.44709128)</td>\n",
       "    </tr>\n",
       "  </tbody>\n",
       "</table>\n",
       "</div>"
      ],
      "text/plain": [
       "               age                                            comment  \\\n",
       "0  Late Ordovician                           Late Ordovician-Silurian   \n",
       "1  Late Palaeozoic                                                nan   \n",
       "2         Tertiary                                                nan   \n",
       "3      Precambrian                                                nan   \n",
       "4   Neoproterozoic  coincides with NNW trending transcontinental g...   \n",
       "\n",
       "  commodities_string      id   latitude   longitude          name  \\\n",
       "0              Au;Cu  333286 -36.115388  147.091253      Bethanga   \n",
       "1           Ag;Zn;Pb  333287 -18.710841  125.968020      Cadjebut   \n",
       "2                  U  333288 -31.740950  140.662364     Honeymoon   \n",
       "3                 Fe  333289 -22.635456  118.138599      Marandoo   \n",
       "4           Ag;Cu;Co  333290 -31.447091  137.149981  Mount Gunson   \n",
       "\n",
       "                           geometry  \n",
       "0  POINT (147.0912532 -36.11538783)  \n",
       "1  POINT (125.9680199 -18.71084053)  \n",
       "2  POINT (140.6623645 -31.74095042)  \n",
       "3  POINT (118.1385991 -22.63545578)  \n",
       "4  POINT (137.1499808 -31.44709128)  "
      ]
     },
     "execution_count": 2,
     "metadata": {},
     "output_type": "execute_result"
    }
   ],
   "source": [
    "from pathlib import Path\n",
    "import geopandas\n",
    "\n",
    "data = Path('../data/deposit_locations.geo.json')\n",
    "deposits = geopandas.read_file(data)\n",
    "deposits.head()"
   ]
  },
  {
   "cell_type": "markdown",
   "metadata": {},
   "source": [
    "Show deposit locations"
   ]
  },
  {
   "cell_type": "code",
   "execution_count": 3,
   "metadata": {},
   "outputs": [],
   "source": [
    "%matplotlib inline\n",
    "\n",
    "import matplotlib.pyplot as plt"
   ]
  },
  {
   "cell_type": "markdown",
   "metadata": {},
   "source": [
    "Load up a coarse resolution boundary of Australia"
   ]
  },
  {
   "cell_type": "code",
   "execution_count": null,
   "metadata": {},
   "outputs": [],
   "source": [
    "path = geopandas.datasets.get_path('naturalearth_lowres')\n",
    "earth = geopandas.read_file(path)\n",
    "australia = earth[earth['name'] == 'Australia']\n",
    "# australia.iloc[0].geometry"
   ]
  },
  {
   "cell_type": "markdown",
   "metadata": {},
   "source": [
    "Plot the locations"
   ]
  },
  {
   "cell_type": "code",
   "execution_count": 5,
   "metadata": {},
   "outputs": [
    {
     "data": {
      "text/plain": [
       "Text(0.5, 1.0, 'Deposit locations in target dataset')"
      ]
     },
     "execution_count": 5,
     "metadata": {},
     "output_type": "execute_result"
    },
    {
     "data": {
      "image/png": "[encoded data removed]",
      "text/plain": [
       "<Figure size 720x720 with 1 Axes>"
      ]
     },
     "metadata": {
      "needs_background": "light"
     },
     "output_type": "display_data"
    }
   ],
   "source": [
    "f, ax = plt.subplots(1, 1)\n",
    "f.set_size_inches(10, 10)\n",
    "australia.plot(edgecolor='black', facecolor='white', alpha=0.7, ax=ax)\n",
    "deposits.plot(markersize=2, alpha=0.9, ax=ax)\n",
    "ax.set_title('Deposit locations in target dataset')"
   ]
  },
  {
   "cell_type": "markdown",
   "metadata": {},
   "source": [
    "Select locations inside a bounding box (around Kalgoorlie in this case)"
   ]
  },
  {
   "cell_type": "code",
   "execution_count": 6,
   "metadata": {},
   "outputs": [
    {
     "data": {
      "text/plain": [
       "<matplotlib.axes._subplots.AxesSubplot at 0x1219c9358>"
      ]
     },
     "execution_count": 6,
     "metadata": {},
     "output_type": "execute_result"
    },
    {
     "data": {
      "image/png": "[encoded data removed]",
      "text/plain": [
       "<Figure size 432x288 with 1 Axes>"
      ]
     },
     "metadata": {
      "needs_background": "light"
     },
     "output_type": "display_data"
    }
   ],
   "source": [
    "from shapely import geometry\n",
    "\n",
    "bbox = geometry.box(120, -26, 125, -32)\n",
    "\n",
    "deposits[deposits.within(bbox)].plot()"
   ]
  },
  {
   "cell_type": "markdown",
   "metadata": {},
   "source": [
    "### Loading up geology data\n",
    "\n",
    "Download the data to the local folder"
   ]
  },
  {
   "cell_type": "code",
   "execution_count": 7,
   "metadata": {},
   "outputs": [],
   "source": [
    "import requests\n",
    "import shutil\n",
    "\n",
    "def download_file(url):\n",
    "    local_filename = url.split('/')[-1]\n",
    "    r = requests.get(url, stream=True)\n",
    "    with open(local_filename, 'wb') as f:\n",
    "        shutil.copyfileobj(r.raw, f)\n",
    "\n",
    "    return local_filename\n",
    "\n",
    "output = Path('74619_1M_shapefiles.zip')\n",
    "if not output.exists():\n",
    "    download_file('https://d28rz98at9flks.cloudfront.net/74619/74619_1M_shapefiles.zip')"
   ]
  },
  {
   "cell_type": "markdown",
   "metadata": {},
   "source": [
    "Read some of the shapeifiles"
   ]
  },
  {
   "cell_type": "code",
   "execution_count": 8,
   "metadata": {},
   "outputs": [
    {
     "data": {
      "text/plain": [
       "['shapefiles/Contacts1M.shp',\n",
       " 'shapefiles/Framework1M.shp',\n",
       " 'shapefiles/GeologicUnitLines1M.shp',\n",
       " 'shapefiles/GeologicUnitPolygons1M.shp',\n",
       " 'shapefiles/MiscLines1M.shp',\n",
       " 'shapefiles/ShearDisplacementLines1M.shp']"
      ]
     },
     "execution_count": 8,
     "metadata": {},
     "output_type": "execute_result"
    }
   ],
   "source": [
    "import zipfile\n",
    "\n",
    "archive = zipfile.ZipFile('74619_1M_shapefiles.zip', 'r')\n",
    "shapefiles = [f for f in archive.namelist() if f.endswith('shp')]\n",
    "shapefiles"
   ]
  },
  {
   "cell_type": "code",
   "execution_count": 9,
   "metadata": {},
   "outputs": [
    {
     "data": {
      "text/html": [
       "<div>\n",
       "<style scoped>\n",
       "    .dataframe tbody tr th:only-of-type {\n",
       "        vertical-align: middle;\n",
       "    }\n",
       "\n",
       "    .dataframe tbody tr th {\n",
       "        vertical-align: top;\n",
       "    }\n",
       "\n",
       "    .dataframe thead th {\n",
       "        text-align: right;\n",
       "    }\n",
       "</style>\n",
       "<table border=\"1\" class=\"dataframe\">\n",
       "  <thead>\n",
       "    <tr style=\"text-align: right;\">\n",
       "      <th></th>\n",
       "      <th>GEODB_OID</th>\n",
       "      <th>OBJECTID</th>\n",
       "      <th>MAPSYMBOL</th>\n",
       "      <th>PLOTSYMBOL</th>\n",
       "      <th>STRATNO</th>\n",
       "      <th>NAME</th>\n",
       "      <th>DESCR</th>\n",
       "      <th>TYPENAME</th>\n",
       "      <th>TYPE_URI</th>\n",
       "      <th>GEOLHIST</th>\n",
       "      <th>...</th>\n",
       "      <th>FRAME</th>\n",
       "      <th>RESSCALE</th>\n",
       "      <th>CAPTDATE</th>\n",
       "      <th>MODDATE</th>\n",
       "      <th>PLOTRANK</th>\n",
       "      <th>FEATUREID</th>\n",
       "      <th>GEOLUNITID</th>\n",
       "      <th>SHAPE_LENG</th>\n",
       "      <th>SHAPE_AREA</th>\n",
       "      <th>geometry</th>\n",
       "    </tr>\n",
       "  </thead>\n",
       "  <tbody>\n",
       "    <tr>\n",
       "      <th>0</th>\n",
       "      <td>None</td>\n",
       "      <td>1</td>\n",
       "      <td>Nssp</td>\n",
       "      <td>Ns</td>\n",
       "      <td>26904</td>\n",
       "      <td>Spearhole Formation</td>\n",
       "      <td>Cross bedded poorly sorted granule and pebble ...</td>\n",
       "      <td>lithostratigraphic unit</td>\n",
       "      <td>http://resource.geosciml.org/classifier/cgi/ge...</td>\n",
       "      <td>Cryogenian</td>\n",
       "      <td>...</td>\n",
       "      <td>land surface</td>\n",
       "      <td>1000000</td>\n",
       "      <td>2008-11-27</td>\n",
       "      <td>2008-11-27</td>\n",
       "      <td>1</td>\n",
       "      <td>GA_GUP1M_0058707</td>\n",
       "      <td>GA.GeologicUnit.SurfaceGeology1M.26904</td>\n",
       "      <td>None</td>\n",
       "      <td>None</td>\n",
       "      <td>POLYGON ((120.467698055 -24.37326333299995, 12...</td>\n",
       "    </tr>\n",
       "    <tr>\n",
       "      <th>1</th>\n",
       "      <td>None</td>\n",
       "      <td>2</td>\n",
       "      <td>Qrc</td>\n",
       "      <td>Qrc</td>\n",
       "      <td>38491</td>\n",
       "      <td>colluvium 38491</td>\n",
       "      <td>Colluvium and/or residual deposits, sheetwash,...</td>\n",
       "      <td>lithostratigraphic unit</td>\n",
       "      <td>http://resource.geosciml.org/classifier/cgi/ge...</td>\n",
       "      <td>Quaternary</td>\n",
       "      <td>...</td>\n",
       "      <td>land surface</td>\n",
       "      <td>1000000</td>\n",
       "      <td>2008-11-27</td>\n",
       "      <td>2008-11-27</td>\n",
       "      <td>1</td>\n",
       "      <td>GA_GUP1M_0058805</td>\n",
       "      <td>GA.GeologicUnit.SurfaceGeology1M.38491</td>\n",
       "      <td>None</td>\n",
       "      <td>None</td>\n",
       "      <td>POLYGON ((115.2658080560001 -23.82720666699993...</td>\n",
       "    </tr>\n",
       "    <tr>\n",
       "      <th>2</th>\n",
       "      <td>None</td>\n",
       "      <td>3</td>\n",
       "      <td>Qa</td>\n",
       "      <td>Qa</td>\n",
       "      <td>38485</td>\n",
       "      <td>alluvium 38485</td>\n",
       "      <td>Channel and flood plain alluvium; gravel, sand...</td>\n",
       "      <td>lithostratigraphic unit</td>\n",
       "      <td>http://resource.geosciml.org/classifier/cgi/ge...</td>\n",
       "      <td>Holocene</td>\n",
       "      <td>...</td>\n",
       "      <td>land surface</td>\n",
       "      <td>1000000</td>\n",
       "      <td>2005-09-19</td>\n",
       "      <td>2005-09-19</td>\n",
       "      <td>1</td>\n",
       "      <td>GA_GUP1M_0058708</td>\n",
       "      <td>GA.GeologicUnit.SurfaceGeology1M.38485</td>\n",
       "      <td>None</td>\n",
       "      <td>None</td>\n",
       "      <td>POLYGON ((143.47412308 -14.09270349999997, 143...</td>\n",
       "    </tr>\n",
       "    <tr>\n",
       "      <th>3</th>\n",
       "      <td>None</td>\n",
       "      <td>4</td>\n",
       "      <td>Lshe</td>\n",
       "      <td>Ls</td>\n",
       "      <td>34024</td>\n",
       "      <td>Mamadawerre Sandstone</td>\n",
       "      <td>White, thickly bedded, commonly tabular or tro...</td>\n",
       "      <td>lithostratigraphic unit</td>\n",
       "      <td>http://resource.geosciml.org/classifier/cgi/ge...</td>\n",
       "      <td>Statherian to Paleoproterozoic</td>\n",
       "      <td>...</td>\n",
       "      <td>land surface</td>\n",
       "      <td>1000000</td>\n",
       "      <td>2007-07-05</td>\n",
       "      <td>2007-07-05</td>\n",
       "      <td>1</td>\n",
       "      <td>GA_GUP1M_0058709</td>\n",
       "      <td>GA.GeologicUnit.SurfaceGeology1M.34024</td>\n",
       "      <td>None</td>\n",
       "      <td>None</td>\n",
       "      <td>POLYGON ((133.003807914 -12.78770367799996, 13...</td>\n",
       "    </tr>\n",
       "    <tr>\n",
       "      <th>4</th>\n",
       "      <td>None</td>\n",
       "      <td>5</td>\n",
       "      <td>Qa</td>\n",
       "      <td>Qa</td>\n",
       "      <td>38485</td>\n",
       "      <td>alluvium 38485</td>\n",
       "      <td>Channel and flood plain alluvium; gravel, sand...</td>\n",
       "      <td>lithostratigraphic unit</td>\n",
       "      <td>http://resource.geosciml.org/classifier/cgi/ge...</td>\n",
       "      <td>Holocene</td>\n",
       "      <td>...</td>\n",
       "      <td>land surface</td>\n",
       "      <td>1000000</td>\n",
       "      <td>2008-11-27</td>\n",
       "      <td>2008-11-27</td>\n",
       "      <td>1</td>\n",
       "      <td>GA_GUP1M_0058806</td>\n",
       "      <td>GA.GeologicUnit.SurfaceGeology1M.38485</td>\n",
       "      <td>None</td>\n",
       "      <td>None</td>\n",
       "      <td>POLYGON ((120.967810888 -32.69829297099994, 12...</td>\n",
       "    </tr>\n",
       "  </tbody>\n",
       "</table>\n",
       "<p>5 rows × 30 columns</p>\n",
       "</div>"
      ],
      "text/plain": [
       "  GEODB_OID  OBJECTID MAPSYMBOL PLOTSYMBOL  STRATNO                   NAME  \\\n",
       "0      None         1      Nssp         Ns    26904    Spearhole Formation   \n",
       "1      None         2       Qrc        Qrc    38491        colluvium 38491   \n",
       "2      None         3        Qa         Qa    38485         alluvium 38485   \n",
       "3      None         4      Lshe         Ls    34024  Mamadawerre Sandstone   \n",
       "4      None         5        Qa         Qa    38485         alluvium 38485   \n",
       "\n",
       "                                               DESCR                 TYPENAME  \\\n",
       "0  Cross bedded poorly sorted granule and pebble ...  lithostratigraphic unit   \n",
       "1  Colluvium and/or residual deposits, sheetwash,...  lithostratigraphic unit   \n",
       "2  Channel and flood plain alluvium; gravel, sand...  lithostratigraphic unit   \n",
       "3  White, thickly bedded, commonly tabular or tro...  lithostratigraphic unit   \n",
       "4  Channel and flood plain alluvium; gravel, sand...  lithostratigraphic unit   \n",
       "\n",
       "                                            TYPE_URI  \\\n",
       "0  http://resource.geosciml.org/classifier/cgi/ge...   \n",
       "1  http://resource.geosciml.org/classifier/cgi/ge...   \n",
       "2  http://resource.geosciml.org/classifier/cgi/ge...   \n",
       "3  http://resource.geosciml.org/classifier/cgi/ge...   \n",
       "4  http://resource.geosciml.org/classifier/cgi/ge...   \n",
       "\n",
       "                         GEOLHIST  ...         FRAME RESSCALE    CAPTDATE  \\\n",
       "0                      Cryogenian  ...  land surface  1000000  2008-11-27   \n",
       "1                      Quaternary  ...  land surface  1000000  2008-11-27   \n",
       "2                        Holocene  ...  land surface  1000000  2005-09-19   \n",
       "3  Statherian to Paleoproterozoic  ...  land surface  1000000  2007-07-05   \n",
       "4                        Holocene  ...  land surface  1000000  2008-11-27   \n",
       "\n",
       "      MODDATE PLOTRANK         FEATUREID  \\\n",
       "0  2008-11-27        1  GA_GUP1M_0058707   \n",
       "1  2008-11-27        1  GA_GUP1M_0058805   \n",
       "2  2005-09-19        1  GA_GUP1M_0058708   \n",
       "3  2007-07-05        1  GA_GUP1M_0058709   \n",
       "4  2008-11-27        1  GA_GUP1M_0058806   \n",
       "\n",
       "                               GEOLUNITID SHAPE_LENG SHAPE_AREA  \\\n",
       "0  GA.GeologicUnit.SurfaceGeology1M.26904       None       None   \n",
       "1  GA.GeologicUnit.SurfaceGeology1M.38491       None       None   \n",
       "2  GA.GeologicUnit.SurfaceGeology1M.38485       None       None   \n",
       "3  GA.GeologicUnit.SurfaceGeology1M.34024       None       None   \n",
       "4  GA.GeologicUnit.SurfaceGeology1M.38485       None       None   \n",
       "\n",
       "                                            geometry  \n",
       "0  POLYGON ((120.467698055 -24.37326333299995, 12...  \n",
       "1  POLYGON ((115.2658080560001 -23.82720666699993...  \n",
       "2  POLYGON ((143.47412308 -14.09270349999997, 143...  \n",
       "3  POLYGON ((133.003807914 -12.78770367799996, 13...  \n",
       "4  POLYGON ((120.967810888 -32.69829297099994, 12...  \n",
       "\n",
       "[5 rows x 30 columns]"
      ]
     },
     "execution_count": 9,
     "metadata": {},
     "output_type": "execute_result"
    }
   ],
   "source": [
    "# Extract files from the zip\n",
    "layer = 'shapefiles/GeologicUnitPolygons1M'\n",
    "for fname in archive.namelist():\n",
    "    if fname.startswith(layer) and not Path(fname).exists():\n",
    "        archive.extract(fname)\n",
    "\n",
    "# Load up shapefile\n",
    "units = geopandas.read_file('shapefiles/GeologicUnitPolygons1M.shp')\n",
    "units.head()"
   ]
  },
  {
   "cell_type": "markdown",
   "metadata": {},
   "source": [
    "And then we can extract a segmet in a small bounding box similar to the raster layers"
   ]
  },
  {
   "cell_type": "code",
   "execution_count": 12,
   "metadata": {},
   "outputs": [],
   "source": [
    "from explore_australia.reprojection import reproject\n",
    "\n",
    "def clip_out(stamp, to_crs, crs='epsg:4326'):\n",
    "    \"Clip out the area given by the stamp polygon\"\n",
    "    # We first subset to the set of units that intersects with the bounding box, then generate the intersection\n",
    "    stamp_reproj = reproject(stamp, crs, units.crs)\n",
    "    subset = units[units.intersects(stamp_reproj)]\n",
    "    clipped = subset.copy()\n",
    "    clipped = clipped.intersection(stamp_reproj).to_crs(to_crs)\n",
    "    return clipped"
   ]
  },
  {
   "cell_type": "markdown",
   "metadata": {},
   "source": [
    "And we can go ahead and reproject"
   ]
  },
  {
   "cell_type": "code",
   "execution_count": 27,
   "metadata": {},
   "outputs": [],
   "source": [
    "from shapely.geometry import Point\n",
    "\n",
    "from explore_australia.utilities import omerc_projection\n",
    "from explore_australia.geometry import make_stamp\n",
    "\n",
    "# Make a rotated box to pull data from\n",
    "centre = Point(122.169999, -32.42)\n",
    "angle = 45\n",
    "stamp = make_stamp(centre, angle)\n",
    "\n",
    "# Clip the data and reproject to a locally aligned grid in m\n",
    "projection = omerc_projection(centre, angle)\n",
    "clipped = clip_out(stamp, crs='epsg:4326', to_crs=projection)"
   ]
  },
  {
   "cell_type": "code",
   "execution_count": 28,
   "metadata": {},
   "outputs": [
    {
     "data": {
      "text/plain": [
       "<matplotlib.axes._subplots.AxesSubplot at 0x1257713c8>"
      ]
     },
     "execution_count": 28,
     "metadata": {},
     "output_type": "execute_result"
    },
    {
     "data": {
      "image/png": "[encoded data removed]",
      "text/plain": [
       "<Figure size 432x288 with 1 Axes>"
      ]
     },
     "metadata": {
      "needs_background": "light"
     },
     "output_type": "display_data"
    }
   ],
   "source": [
    "clipped.plot()"
   ]
  },
  {
   "cell_type": "markdown",
   "metadata": {},
   "source": [
    "Now we can pull out a single unit in the area for masking or some other purpose (distance to contacts maybe?)"
   ]
  },
  {
   "cell_type": "code",
   "execution_count": 47,
   "metadata": {},
   "outputs": [],
   "source": [
    "# clipped.loc[16288]  # uncomment to render - github doesn't like raw SVG"
   ]
  },
  {
   "cell_type": "markdown",
   "metadata": {},
   "source": [
    "We can also recover some of the information about the unit from its ID"
   ]
  },
  {
   "cell_type": "code",
   "execution_count": 36,
   "metadata": {},
   "outputs": [
    {
     "data": {
      "text/plain": [
       "GEODB_OID                                                  None\n",
       "OBJECTID                                                  16289\n",
       "MAPSYMBOL                                                   Qrc\n",
       "PLOTSYMBOL                                                  Qrc\n",
       "STRATNO                                                   38491\n",
       "NAME                                            colluvium 38491\n",
       "DESCR         Colluvium and/or residual deposits, sheetwash,...\n",
       "TYPENAME                                lithostratigraphic unit\n",
       "TYPE_URI      http://resource.geosciml.org/classifier/cgi/ge...\n",
       "GEOLHIST                                             Quaternary\n",
       "REPAGE_URI    http://resource.geosciml.org/classifier/ics/is...\n",
       "YNGAGE_URI    http://resource.geosciml.org/classifier/ics/is...\n",
       "OLDAGE_URI    http://resource.geosciml.org/classifier/ics/is...\n",
       "LITHOLOGY                                              regolith\n",
       "REPLTH_URI    http://resource.geosciml.org/classifier/cgi/li...\n",
       "MORPHOLOGY                                                 None\n",
       "OBSMETHOD          synthesis of multiple published descriptions\n",
       "CONFIDENCE                                                 None\n",
       "SOURCE        http://www.ga.gov.au/products-services/data-ap...\n",
       "METADATA         http://www.ga.gov.au/meta/ANZCW0703016455.html\n",
       "FRAME                                              land surface\n",
       "RESSCALE                                                1000000\n",
       "CAPTDATE                                             2008-11-27\n",
       "MODDATE                                              2008-11-27\n",
       "PLOTRANK                                                      1\n",
       "FEATUREID                                      GA_GUP1M_0016578\n",
       "GEOLUNITID               GA.GeologicUnit.SurfaceGeology1M.38491\n",
       "SHAPE_LENG                                                 None\n",
       "SHAPE_AREA                                                 None\n",
       "geometry      POLYGON ((121.4003650000001 -32.63298638899994...\n",
       "Name: 16288, dtype: object"
      ]
     },
     "execution_count": 36,
     "metadata": {},
     "output_type": "execute_result"
    }
   ],
   "source": [
    "units.loc[16288]"
   ]
  },
  {
   "cell_type": "code",
   "execution_count": null,
   "metadata": {},
   "outputs": [],
   "source": []
  }
 ],
 "metadata": {
  "kernelspec": {
   "display_name": "Python [conda env:explorer]",
   "language": "python",
   "name": "conda-env-explorer-py"
  },
  "language_info": {
   "codemirror_mode": {
    "name": "ipython",
    "version": 3
   },
   "file_extension": ".py",
   "mimetype": "text/x-python",
   "name": "python",
   "nbconvert_exporter": "python",
   "pygments_lexer": "ipython3",
   "version": "3.6.8"
  }
 },
 "nbformat": 4,
 "nbformat_minor": 2
}
